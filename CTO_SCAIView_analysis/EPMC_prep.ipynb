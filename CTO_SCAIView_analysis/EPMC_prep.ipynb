{
 "cells": [
  {
   "cell_type": "code",
   "execution_count": 1,
   "metadata": {},
   "outputs": [],
   "source": [
    "'''\n",
    "https://www.ebi.ac.uk/europepmc/webservices/rest/search?query=PPR222068&format=xml\n",
    "https://www.ebi.ac.uk/europepmc/webservices/rest/search?query=doi:%2010.1101/2020.06.27.20141788&format=xml <-better\n",
    "'''\n",
    "\n",
    "import pandas as pd\n",
    "import requests\n",
    "from bs4 import BeautifulSoup"
   ]
  },
  {
   "cell_type": "code",
   "execution_count": 6,
   "metadata": {},
   "outputs": [
    {
     "name": "stdout",
     "output_type": "stream",
     "text": [
      "86\n"
     ]
    }
   ],
   "source": [
    "# generate a non-PMID dataframe\n",
    "\n",
    "data = pd.read_csv('input/results-ivermectin.txt', sep='\\t', header = 0)\n",
    "EPMC = data[data['PMID'].isna()]\n",
    "n=EPMC.shape[0]\n",
    "print(n)"
   ]
  },
  {
   "cell_type": "code",
   "execution_count": 7,
   "metadata": {},
   "outputs": [
    {
     "name": "stdout",
     "output_type": "stream",
     "text": [
      "86\n"
     ]
    }
   ],
   "source": [
    "EPMC_list = EPMC['Alternative Document IDs'].dropna().tolist()\n",
    "print(len(EPMC_list))"
   ]
  },
  {
   "cell_type": "code",
   "execution_count": 8,
   "metadata": {},
   "outputs": [
    {
     "name": "stdout",
     "output_type": "stream",
     "text": [
      "75\n"
     ]
    }
   ],
   "source": [
    "# find how many contains DOI\n",
    "DOI= EPMC[EPMC['Alternative Document IDs'].str.contains('DOI')]\n",
    "print(DOI.shape[0])"
   ]
  },
  {
   "cell_type": "code",
   "execution_count": 9,
   "metadata": {},
   "outputs": [
    {
     "name": "stdout",
     "output_type": "stream",
     "text": [
      "11\n"
     ]
    }
   ],
   "source": [
    "# find those do not have DOI\n",
    "\n",
    "NonDOI = EPMC[~EPMC['Alternative Document IDs'].isin(DOI['Alternative Document IDs'])]\n",
    "print(NonDOI.shape[0])\n"
   ]
  },
  {
   "cell_type": "code",
   "execution_count": 10,
   "metadata": {},
   "outputs": [],
   "source": [
    "NonDOI.to_csv('output/NonDOI_EPMC_ivermectin.csv',sep='\\t') "
   ]
  },
  {
   "cell_type": "code",
   "execution_count": null,
   "metadata": {},
   "outputs": [],
   "source": []
  }
 ],
 "metadata": {
  "kernelspec": {
   "display_name": "Python 3",
   "language": "python",
   "name": "python3"
  },
  "language_info": {
   "codemirror_mode": {
    "name": "ipython",
    "version": 3
   },
   "file_extension": ".py",
   "mimetype": "text/x-python",
   "name": "python",
   "nbconvert_exporter": "python",
   "pygments_lexer": "ipython3",
   "version": "3.8.5"
  }
 },
 "nbformat": 4,
 "nbformat_minor": 4
}
